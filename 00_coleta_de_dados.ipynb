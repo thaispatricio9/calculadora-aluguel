{
  "nbformat": 4,
  "nbformat_minor": 0,
  "metadata": {
    "colab": {
      "name": "00-coleta_de_dados.ipynb",
      "provenance": [],
      "authorship_tag": "ABX9TyMy8zktK/RC+UuGADPCgdBH",
      "include_colab_link": true
    },
    "kernelspec": {
      "name": "python3",
      "display_name": "Python 3"
    },
    "language_info": {
      "name": "python"
    }
  },
  "cells": [
    {
      "cell_type": "markdown",
      "metadata": {
        "id": "view-in-github",
        "colab_type": "text"
      },
      "source": [
        "<a href=\"https://colab.research.google.com/github/thaispatricio9/calculadora-aluguel/blob/main/00_coleta_de_dados.ipynb\" target=\"_parent\"><img src=\"https://colab.research.google.com/assets/colab-badge.svg\" alt=\"Open In Colab\"/></a>"
      ]
    },
    {
      "cell_type": "code",
      "metadata": {
        "id": "p1glIgxN2Xvk"
      },
      "source": [
        "import requests\n",
        "from bs4 import BeautifulSoup\n",
        "import pandas as pd\n",
        "from google.colab import files"
      ],
      "execution_count": 6,
      "outputs": []
    },
    {
      "cell_type": "code",
      "metadata": {
        "id": "_bqPnjpU2tWW"
      },
      "source": [
        "bairros = {\"vila_mariana\": \"https://imoveis.mercadolivre.com.br/apartamentos/venda/sao-paulo/sao-paulo-zona-sul/vila-mariana\",\n",
        "           \"campo_belo\": \"https://imoveis.mercadolivre.com.br/apartamentos/venda/sao-paulo/sao-paulo-zona-sul/campo-belo/\",\n",
        "           \"moema\": \"https://imoveis.mercadolivre.com.br/apartamentos/venda/sao-paulo/sao-paulo-zona-sul/moema/\"}\n",
        "n_paginas = 10"
      ],
      "execution_count": 2,
      "outputs": []
    },
    {
      "cell_type": "code",
      "metadata": {
        "colab": {
          "base_uri": "https://localhost:8080/"
        },
        "id": "akGcVJsR2vbb",
        "outputId": "8025f626-a418-4d5e-ea08-b2eb3f006048"
      },
      "source": [
        "resultados = []\n",
        "for bairro,url in bairros.items():\n",
        "    for pagina in range(n_paginas):\n",
        "        print(f\"bairro: {bairro}, pagina: {pagina}, url: {url}\")\n",
        "        response = requests.get(url, timeout=5)\n",
        "        soup = BeautifulSoup(response.content)\n",
        "        # pega links\n",
        "        lista_de_urls = soup.find_all(\"a\", class_=\"ui-search-result__content ui-search-link\")\n",
        "        lista_de_urls = [w[\"href\"] for w in lista_de_urls]\n",
        "        # pega precos\n",
        "        lista_de_precos = soup.find_all(\"span\", class_=\"price-tag-fraction\")\n",
        "        lista_de_precos = [w.text for w in lista_de_precos]\n",
        "        # pega nomes\n",
        "        lista_de_nomes = soup.find_all(\"h2\", class_=\"ui-search-item__title ui-search-item__group__element\")\n",
        "        lista_de_nomes = [w.text for w in lista_de_nomes]\n",
        "        # pega enderecos\n",
        "        lista_de_enderecos = soup.find_all(\"span\", class_=\"ui-search-item__group__element ui-search-item__location\")\n",
        "        lista_de_enderecos = [w.text for w in lista_de_enderecos]\n",
        "        # pega area e quartos\n",
        "        area_quartos = soup.find_all(\"ul\", class_=\"ui-search-card-attributes ui-search-item__group__element\")\n",
        "        lista_de_areas = [w.find_all(\"li\")[0].text for w in area_quartos]\n",
        "        lista_de_quartos = [w.find_all(\"li\")[1].text if len(w.find_all(\"li\"))>=2 else \"sem_quartos\" for w in area_quartos]\n",
        "        # lista simples com nome do bairro\n",
        "        lista_de_bairro = [bairro] * len(lista_de_urls)\n",
        "        # junta todas as listas\n",
        "        lista_de_resultados = list(zip(lista_de_bairro, lista_de_urls, lista_de_precos, lista_de_nomes, lista_de_enderecos, lista_de_areas, lista_de_quartos))\n",
        "        resultados = resultados + lista_de_resultados\n",
        "        # pega o next_page\n",
        "        next_page = (soup.find(\"a\", title=\"Seguinte\")[\"href\"])\n",
        "        url = next_page\n",
        "print(f\"Total de resultados: {len(resultados)}\")"
      ],
      "execution_count": 3,
      "outputs": [
        {
          "output_type": "stream",
          "text": [
            "bairro: vila_mariana, pagina: 0, url: https://imoveis.mercadolivre.com.br/apartamentos/venda/sao-paulo/sao-paulo-zona-sul/vila-mariana\n",
            "bairro: vila_mariana, pagina: 1, url: https://imoveis.mercadolivre.com.br/apartamentos/venda/sao-paulo/sao-paulo-zona-sul/vila-mariana_Desde_49\n",
            "bairro: vila_mariana, pagina: 2, url: https://imoveis.mercadolivre.com.br/apartamentos/venda/sao-paulo/sao-paulo-zona-sul/vila-mariana_Desde_97\n",
            "bairro: vila_mariana, pagina: 3, url: https://imoveis.mercadolivre.com.br/apartamentos/venda/sao-paulo/sao-paulo-zona-sul/vila-mariana_Desde_145\n",
            "bairro: vila_mariana, pagina: 4, url: https://imoveis.mercadolivre.com.br/apartamentos/venda/sao-paulo/sao-paulo-zona-sul/vila-mariana_Desde_193\n",
            "bairro: vila_mariana, pagina: 5, url: https://imoveis.mercadolivre.com.br/apartamentos/venda/sao-paulo/sao-paulo-zona-sul/vila-mariana_Desde_241\n",
            "bairro: vila_mariana, pagina: 6, url: https://imoveis.mercadolivre.com.br/apartamentos/venda/sao-paulo/sao-paulo-zona-sul/vila-mariana_Desde_289\n",
            "bairro: vila_mariana, pagina: 7, url: https://imoveis.mercadolivre.com.br/apartamentos/venda/sao-paulo/sao-paulo-zona-sul/vila-mariana_Desde_337\n",
            "bairro: vila_mariana, pagina: 8, url: https://imoveis.mercadolivre.com.br/apartamentos/venda/sao-paulo/sao-paulo-zona-sul/vila-mariana_Desde_385\n",
            "bairro: vila_mariana, pagina: 9, url: https://imoveis.mercadolivre.com.br/apartamentos/venda/sao-paulo/sao-paulo-zona-sul/vila-mariana_Desde_433\n",
            "bairro: campo_belo, pagina: 0, url: https://imoveis.mercadolivre.com.br/apartamentos/venda/sao-paulo/sao-paulo-zona-sul/campo-belo/\n",
            "bairro: campo_belo, pagina: 1, url: https://imoveis.mercadolivre.com.br/apartamentos/venda/sao-paulo/sao-paulo-zona-sul/campo-belo/_Desde_49\n",
            "bairro: campo_belo, pagina: 2, url: https://imoveis.mercadolivre.com.br/apartamentos/venda/sao-paulo/sao-paulo-zona-sul/campo-belo/_Desde_97\n",
            "bairro: campo_belo, pagina: 3, url: https://imoveis.mercadolivre.com.br/apartamentos/venda/sao-paulo/sao-paulo-zona-sul/campo-belo/_Desde_145\n",
            "bairro: campo_belo, pagina: 4, url: https://imoveis.mercadolivre.com.br/apartamentos/venda/sao-paulo/sao-paulo-zona-sul/campo-belo/_Desde_193\n",
            "bairro: campo_belo, pagina: 5, url: https://imoveis.mercadolivre.com.br/apartamentos/venda/sao-paulo/sao-paulo-zona-sul/campo-belo/_Desde_241\n",
            "bairro: campo_belo, pagina: 6, url: https://imoveis.mercadolivre.com.br/apartamentos/venda/sao-paulo/sao-paulo-zona-sul/campo-belo/_Desde_289\n",
            "bairro: campo_belo, pagina: 7, url: https://imoveis.mercadolivre.com.br/apartamentos/venda/sao-paulo/sao-paulo-zona-sul/campo-belo/_Desde_337\n",
            "bairro: campo_belo, pagina: 8, url: https://imoveis.mercadolivre.com.br/apartamentos/venda/sao-paulo/sao-paulo-zona-sul/campo-belo/_Desde_385\n",
            "bairro: campo_belo, pagina: 9, url: https://imoveis.mercadolivre.com.br/apartamentos/venda/sao-paulo/sao-paulo-zona-sul/campo-belo/_Desde_433\n",
            "bairro: moema, pagina: 0, url: https://imoveis.mercadolivre.com.br/apartamentos/venda/sao-paulo/sao-paulo-zona-sul/moema/\n",
            "bairro: moema, pagina: 1, url: https://imoveis.mercadolivre.com.br/apartamentos/venda/sao-paulo/sao-paulo-zona-sul/moema/_Desde_49\n",
            "bairro: moema, pagina: 2, url: https://imoveis.mercadolivre.com.br/apartamentos/venda/sao-paulo/sao-paulo-zona-sul/moema/_Desde_97\n",
            "bairro: moema, pagina: 3, url: https://imoveis.mercadolivre.com.br/apartamentos/venda/sao-paulo/sao-paulo-zona-sul/moema/_Desde_145\n",
            "bairro: moema, pagina: 4, url: https://imoveis.mercadolivre.com.br/apartamentos/venda/sao-paulo/sao-paulo-zona-sul/moema/_Desde_193\n",
            "bairro: moema, pagina: 5, url: https://imoveis.mercadolivre.com.br/apartamentos/venda/sao-paulo/sao-paulo-zona-sul/moema/_Desde_241\n",
            "bairro: moema, pagina: 6, url: https://imoveis.mercadolivre.com.br/apartamentos/venda/sao-paulo/sao-paulo-zona-sul/moema/_Desde_289\n",
            "bairro: moema, pagina: 7, url: https://imoveis.mercadolivre.com.br/apartamentos/venda/sao-paulo/sao-paulo-zona-sul/moema/_Desde_337\n",
            "bairro: moema, pagina: 8, url: https://imoveis.mercadolivre.com.br/apartamentos/venda/sao-paulo/sao-paulo-zona-sul/moema/_Desde_385\n",
            "bairro: moema, pagina: 9, url: https://imoveis.mercadolivre.com.br/apartamentos/venda/sao-paulo/sao-paulo-zona-sul/moema/_Desde_433\n",
            "Total de resultados: 1440\n"
          ],
          "name": "stdout"
        }
      ]
    },
    {
      "cell_type": "code",
      "metadata": {
        "colab": {
          "base_uri": "https://localhost:8080/",
          "height": 17
        },
        "id": "tgQMgn3Z2yEL",
        "outputId": "e077c30a-6ee2-4f09-87cf-72afab183849"
      },
      "source": [
        "pd.DataFrame(resultados).to_csv(\"resultados.csv\")\n",
        "files.download('resultados.csv')"
      ],
      "execution_count": 8,
      "outputs": [
        {
          "output_type": "display_data",
          "data": {
            "application/javascript": [
              "\n",
              "    async function download(id, filename, size) {\n",
              "      if (!google.colab.kernel.accessAllowed) {\n",
              "        return;\n",
              "      }\n",
              "      const div = document.createElement('div');\n",
              "      const label = document.createElement('label');\n",
              "      label.textContent = `Downloading \"${filename}\": `;\n",
              "      div.appendChild(label);\n",
              "      const progress = document.createElement('progress');\n",
              "      progress.max = size;\n",
              "      div.appendChild(progress);\n",
              "      document.body.appendChild(div);\n",
              "\n",
              "      const buffers = [];\n",
              "      let downloaded = 0;\n",
              "\n",
              "      const channel = await google.colab.kernel.comms.open(id);\n",
              "      // Send a message to notify the kernel that we're ready.\n",
              "      channel.send({})\n",
              "\n",
              "      for await (const message of channel.messages) {\n",
              "        // Send a message to notify the kernel that we're ready.\n",
              "        channel.send({})\n",
              "        if (message.buffers) {\n",
              "          for (const buffer of message.buffers) {\n",
              "            buffers.push(buffer);\n",
              "            downloaded += buffer.byteLength;\n",
              "            progress.value = downloaded;\n",
              "          }\n",
              "        }\n",
              "      }\n",
              "      const blob = new Blob(buffers, {type: 'application/binary'});\n",
              "      const a = document.createElement('a');\n",
              "      a.href = window.URL.createObjectURL(blob);\n",
              "      a.download = filename;\n",
              "      div.appendChild(a);\n",
              "      a.click();\n",
              "      div.remove();\n",
              "    }\n",
              "  "
            ],
            "text/plain": [
              "<IPython.core.display.Javascript object>"
            ]
          },
          "metadata": {
            "tags": []
          }
        },
        {
          "output_type": "display_data",
          "data": {
            "application/javascript": [
              "download(\"download_7b3010b0-2073-43e9-8cd3-66b40f51c8df\", \"resultados.csv\", 571268)"
            ],
            "text/plain": [
              "<IPython.core.display.Javascript object>"
            ]
          },
          "metadata": {
            "tags": []
          }
        }
      ]
    },
    {
      "cell_type": "code",
      "metadata": {
        "colab": {
          "base_uri": "https://localhost:8080/",
          "height": 589
        },
        "id": "AEUHsuiJ3VYC",
        "outputId": "d947858e-cfd2-4425-89a9-bf9634cb1f10"
      },
      "source": [
        "pd.DataFrame(resultados)"
      ],
      "execution_count": 5,
      "outputs": [
        {
          "output_type": "execute_result",
          "data": {
            "text/html": [
              "<div>\n",
              "<style scoped>\n",
              "    .dataframe tbody tr th:only-of-type {\n",
              "        vertical-align: middle;\n",
              "    }\n",
              "\n",
              "    .dataframe tbody tr th {\n",
              "        vertical-align: top;\n",
              "    }\n",
              "\n",
              "    .dataframe thead th {\n",
              "        text-align: right;\n",
              "    }\n",
              "</style>\n",
              "<table border=\"1\" class=\"dataframe\">\n",
              "  <thead>\n",
              "    <tr style=\"text-align: right;\">\n",
              "      <th></th>\n",
              "      <th>0</th>\n",
              "      <th>1</th>\n",
              "      <th>2</th>\n",
              "      <th>3</th>\n",
              "      <th>4</th>\n",
              "      <th>5</th>\n",
              "      <th>6</th>\n",
              "    </tr>\n",
              "  </thead>\n",
              "  <tbody>\n",
              "    <tr>\n",
              "      <th>0</th>\n",
              "      <td>vila_mariana</td>\n",
              "      <td>https://apartamento.mercadolivre.com.br/MLB-17...</td>\n",
              "      <td>356.186</td>\n",
              "      <td>INSPIRE IBIRAPUERA</td>\n",
              "      <td>Vila Mariana, São Paulo Zona Sul, São Paulo</td>\n",
              "      <td>25 - 51 m² construídos</td>\n",
              "      <td>1 - 2 dorms.</td>\n",
              "    </tr>\n",
              "    <tr>\n",
              "      <th>1</th>\n",
              "      <td>vila_mariana</td>\n",
              "      <td>https://apartamento.mercadolivre.com.br/MLB-16...</td>\n",
              "      <td>800.000</td>\n",
              "      <td>Apartamento Com 3 Dormitórios À Venda, 84 M² P...</td>\n",
              "      <td>Vila Mariana, São Paulo Zona Sul, São Paulo</td>\n",
              "      <td>84 m² construídos</td>\n",
              "      <td>3 quartos</td>\n",
              "    </tr>\n",
              "    <tr>\n",
              "      <th>2</th>\n",
              "      <td>vila_mariana</td>\n",
              "      <td>https://apartamento.mercadolivre.com.br/MLB-16...</td>\n",
              "      <td>2.900.000</td>\n",
              "      <td>Apartamento Duplex Com 4 Dormitórios À Venda, ...</td>\n",
              "      <td>Jardim Vila Mariana, São Paulo Zona Sul, São P...</td>\n",
              "      <td>283 m² construídos</td>\n",
              "      <td>4 quartos</td>\n",
              "    </tr>\n",
              "    <tr>\n",
              "      <th>3</th>\n",
              "      <td>vila_mariana</td>\n",
              "      <td>https://apartamento.mercadolivre.com.br/MLB-12...</td>\n",
              "      <td>1.200.000</td>\n",
              "      <td>Apartamento Residencial À Venda, Chácara Klabi...</td>\n",
              "      <td>Rua Domingos Augusto Setti, Jardim Vila Marian...</td>\n",
              "      <td>111 m² construídos</td>\n",
              "      <td>1 quarto</td>\n",
              "    </tr>\n",
              "    <tr>\n",
              "      <th>4</th>\n",
              "      <td>vila_mariana</td>\n",
              "      <td>https://apartamento.mercadolivre.com.br/MLB-14...</td>\n",
              "      <td>1.100.000</td>\n",
              "      <td>Apartamento À Venda, 4 Quartos, 2 Vagas, Jardi...</td>\n",
              "      <td>Rua Petrarca, Jardim Vila Mariana, São Paulo Z...</td>\n",
              "      <td>147 m² construídos</td>\n",
              "      <td>4 quartos</td>\n",
              "    </tr>\n",
              "    <tr>\n",
              "      <th>...</th>\n",
              "      <td>...</td>\n",
              "      <td>...</td>\n",
              "      <td>...</td>\n",
              "      <td>...</td>\n",
              "      <td>...</td>\n",
              "      <td>...</td>\n",
              "      <td>...</td>\n",
              "    </tr>\n",
              "    <tr>\n",
              "      <th>1435</th>\n",
              "      <td>moema</td>\n",
              "      <td>https://apartamento.mercadolivre.com.br/MLB-18...</td>\n",
              "      <td>855.000</td>\n",
              "      <td>Apartamento-são Paulo-moema | Ref.: 190-im5675...</td>\n",
              "      <td>Moema, São Paulo Zona Sul, São Paulo</td>\n",
              "      <td>76 m² construídos</td>\n",
              "      <td>1 quarto</td>\n",
              "    </tr>\n",
              "    <tr>\n",
              "      <th>1436</th>\n",
              "      <td>moema</td>\n",
              "      <td>https://apartamento.mercadolivre.com.br/MLB-18...</td>\n",
              "      <td>800.000</td>\n",
              "      <td>Excelente Localização Em Moema, Apto De 75m., ...</td>\n",
              "      <td>Moema, São Paulo Zona Sul, São Paulo</td>\n",
              "      <td>75 m² construídos</td>\n",
              "      <td>2 quartos</td>\n",
              "    </tr>\n",
              "    <tr>\n",
              "      <th>1437</th>\n",
              "      <td>moema</td>\n",
              "      <td>https://apartamento.mercadolivre.com.br/MLB-18...</td>\n",
              "      <td>2.200.000</td>\n",
              "      <td>Apartamento À Venda Em Moema, Edifício Des Ois...</td>\n",
              "      <td>Rua Gaivota, Moema, São Paulo Zona Sul, São Paulo</td>\n",
              "      <td>220 m² construídos</td>\n",
              "      <td>4 quartos</td>\n",
              "    </tr>\n",
              "    <tr>\n",
              "      <th>1438</th>\n",
              "      <td>moema</td>\n",
              "      <td>https://apartamento.mercadolivre.com.br/MLB-18...</td>\n",
              "      <td>750.000</td>\n",
              "      <td>Apartamento Á Venda Com 3 Dorms, Moema, São Pa...</td>\n",
              "      <td>Avenida Macuco,\\n                0, Moema, São...</td>\n",
              "      <td>70 m² construídos</td>\n",
              "      <td>3 quartos</td>\n",
              "    </tr>\n",
              "    <tr>\n",
              "      <th>1439</th>\n",
              "      <td>moema</td>\n",
              "      <td>https://apartamento.mercadolivre.com.br/MLB-18...</td>\n",
              "      <td>2.490.000</td>\n",
              "      <td>Apartamento  Com 4 Dormitório(s) Localizado(a)...</td>\n",
              "      <td>..., Moema, São Paulo Zona Sul, São Paulo</td>\n",
              "      <td>196 m² construídos</td>\n",
              "      <td>4 quartos</td>\n",
              "    </tr>\n",
              "  </tbody>\n",
              "</table>\n",
              "<p>1440 rows × 7 columns</p>\n",
              "</div>"
            ],
            "text/plain": [
              "                 0  ...             6\n",
              "0     vila_mariana  ...  1 - 2 dorms.\n",
              "1     vila_mariana  ...     3 quartos\n",
              "2     vila_mariana  ...     4 quartos\n",
              "3     vila_mariana  ...      1 quarto\n",
              "4     vila_mariana  ...     4 quartos\n",
              "...            ...  ...           ...\n",
              "1435         moema  ...      1 quarto\n",
              "1436         moema  ...     2 quartos\n",
              "1437         moema  ...     4 quartos\n",
              "1438         moema  ...     3 quartos\n",
              "1439         moema  ...     4 quartos\n",
              "\n",
              "[1440 rows x 7 columns]"
            ]
          },
          "metadata": {
            "tags": []
          },
          "execution_count": 5
        }
      ]
    }
  ]
}